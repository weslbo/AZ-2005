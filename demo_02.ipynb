{
 "cells": [
  {
   "cell_type": "markdown",
   "metadata": {},
   "source": [
    "# Demo's for AZ-2005\n",
    "\n",
    "In this demo, we are going to use 2 plugins: one that retrieve feeds from the NY times rss and another that can write data to a file.\n",
    "\n",
    "Semantic kernel creates a automtically a plan and invokes the correct functions.\n",
    "\n",
    "At its simplest, function calling is merely a way for an AI to invoke a function with the right parameters.\n",
    "\n",
    "Note: The Stepwise and Handlebars planners are still available in Semantic Kernel. However, we recommend using function calling for most tasks as it is more powerful and easier to use. Both the Stepwise and Handlebars planners will be deprecated in a future release of Semantic Kernel."
   ]
  },
  {
   "cell_type": "markdown",
   "metadata": {},
   "source": [
    "## Import packages\n",
    "\n",
    "Here are some nuget packages we need to import. Notice the Microsoft.SemanticKernel version number"
   ]
  },
  {
   "cell_type": "code",
   "execution_count": null,
   "metadata": {
    "dotnet_interactive": {
     "language": "csharp"
    },
    "polyglot_notebook": {
     "kernelName": "csharp"
    },
    "vscode": {
     "languageId": "polyglot-notebook"
    }
   },
   "outputs": [],
   "source": [
    "#r \"nuget:Microsoft.Extensions.Logging, 8.0.0\"\n",
    "#r \"nuget:Microsoft.Extensions.Logging.Console, 8.0.0\"\n",
    "#r \"nuget:Microsoft.Extensions.Logging.Debug, 8.0.0\"\n",
    "\n",
    "#r \"nuget:Microsoft.SemanticKernel, 1.16.1\"\n",
    "#r \"nuget:Microsoft.SemanticKernel.Plugins.Core, 1.16.2-alpha\"\n",
    "\n",
    "#r \"nuget:dotenv.net, 3.0.0\"\n",
    "#r \"nuget:SimpleFeedReader, 1.0.9\""
   ]
  },
  {
   "cell_type": "markdown",
   "metadata": {},
   "source": [
    "## Set/Get Environment variables\n",
    "\n",
    "Make sure you have a .env file created in the root with the following 2 keys:\n",
    "\n",
    "OPENAI_ENDPOINT=https://[your resource]-[region].openai.azure.com/\n",
    "\n",
    "OPENAI_KEY=xxxxxxx"
   ]
  },
  {
   "cell_type": "code",
   "execution_count": null,
   "metadata": {
    "dotnet_interactive": {
     "language": "csharp"
    },
    "polyglot_notebook": {
     "kernelName": "csharp"
    },
    "vscode": {
     "languageId": "polyglot-notebook"
    }
   },
   "outputs": [],
   "source": [
    "using dotenv.net;\n",
    "using dotenv.net.Utilities;\n",
    "\n",
    "DotEnv.Load();\n",
    "\n",
    "var openai_endpoint = EnvReader.GetStringValue(\"OPENAI_ENDPOINT\");\n",
    "var openai_key = EnvReader.GetStringValue(\"OPENAI_KEY\");"
   ]
  },
  {
   "cell_type": "markdown",
   "metadata": {},
   "source": [
    "## Setup plugins\n",
    "\n",
    "Notice we also create a logging http client handler, that will inspect all the messages send to Azure Open AI. "
   ]
  },
  {
   "cell_type": "code",
   "execution_count": null,
   "metadata": {
    "dotnet_interactive": {
     "language": "csharp"
    },
    "polyglot_notebook": {
     "kernelName": "csharp"
    },
    "vscode": {
     "languageId": "polyglot-notebook"
    }
   },
   "outputs": [],
   "source": [
    "using Microsoft.Extensions.DependencyInjection;\n",
    "using Microsoft.Extensions.Logging;\n",
    "using Microsoft.Extensions.Logging.Abstractions;\n",
    "using Microsoft.Extensions.Logging.Console;\n",
    "using Microsoft.SemanticKernel;\n",
    "using Microsoft.SemanticKernel.ChatCompletion;\n",
    "using Microsoft.SemanticKernel.Connectors.OpenAI;\n",
    "using Microsoft.SemanticKernel.Plugins.Core;\n",
    "using System.ComponentModel;\n",
    "using SimpleFeedReader;\n",
    "using System.Text.Json;\n",
    "using System.Net.Http;\n",
    "using System.Threading;\n",
    "using JsonSerializer = System.Text.Json.JsonSerializer;\n",
    "\n",
    "public class NewsPlugin {\n",
    "    [KernelFunction(\"get_news\")]\n",
    "    [Description(\"Gets news items for today's date\")]\n",
    "    [return: Description(\"List of news stories\")]\n",
    "    public List<FeedItem> GetNews(Kernel kernel, string category) {\n",
    "        var reader = new FeedReader();\n",
    "        return  reader.RetrieveFeed($\"https://rss.nytimes.com/services/xml/rss/nyt/{category}.xml\").Take(5).ToList();\n",
    "    }\n",
    "}\n",
    "\n",
    "public class ArchivePlugin {\n",
    "    [KernelFunction(\"archive_data\")]\n",
    "    [Description(\"Saves data to a file on your computer\")]\n",
    "\n",
    "    public async Task WriteData(Kernel kernel, string filename, string data) \n",
    "    {\n",
    "        await System.IO.File.WriteAllTextAsync($\"{System.IO.Directory.GetCurrentDirectory()}\\\\{filename}\", data);\n",
    "    }\n",
    "}\n",
    "\n",
    "class LoggingHttpClientHandler : HttpClientHandler\n",
    "{\n",
    "    protected override async Task<HttpResponseMessage> SendAsync(\n",
    "        HttpRequestMessage request, CancellationToken cancellationToken)\n",
    "    {\n",
    "        if (request.Content is not null)\n",
    "        {\n",
    "            var content = await request.Content.ReadAsStringAsync(cancellationToken);\n",
    "            var json = JsonSerializer.Serialize(JsonSerializer.Deserialize<JsonDocument>(content),\n",
    "                new JsonSerializerOptions { WriteIndented = true });\n",
    "            Console.WriteLine(json);\n",
    "        }\n",
    "\n",
    "        return await base.SendAsync(request, cancellationToken);\n",
    "    }\n",
    "}"
   ]
  },
  {
   "cell_type": "code",
   "execution_count": null,
   "metadata": {
    "dotnet_interactive": {
     "language": "csharp"
    },
    "polyglot_notebook": {
     "kernelName": "csharp"
    },
    "vscode": {
     "languageId": "polyglot-notebook"
    }
   },
   "outputs": [],
   "source": [
    "var client = new HttpClient(new LoggingHttpClientHandler());\n",
    "\n",
    "var builder = Microsoft.SemanticKernel.Kernel.CreateBuilder();\n",
    "builder.AddAzureOpenAIChatCompletion(\n",
    "         \"gpt-4o\",         // Azure OpenAI Deployment Name. Make sure this is correct\n",
    "         openai_endpoint,  // Azure OpenAI Endpoint\n",
    "         openai_key,\n",
    "         httpClient: client);      // Azure OpenAI Key\n",
    "\n",
    "builder.Services.AddLogging(c => c.AddDebug()\n",
    "                                  .SetMinimumLevel(LogLevel.Trace) // don't do this in production!\n",
    "                                  .AddConsole());\n",
    "\n",
    "builder.Plugins.AddFromType<NewsPlugin>();\n",
    "builder.Plugins.AddFromType<ArchivePlugin>();\n",
    "\n",
    "var kernel = builder.Build();\n",
    "\n",
    "var executionSettings = new OpenAIPromptExecutionSettings\n",
    "{\n",
    "    ToolCallBehavior = ToolCallBehavior.AutoInvokeKernelFunctions\n",
    "};\n",
    "\n",
    "var chatCompletionService = kernel.GetRequiredService<IChatCompletionService>();"
   ]
  },
  {
   "cell_type": "markdown",
   "metadata": {},
   "source": [
    "## Send a prompt\n",
    "\n",
    "Notice how the http client handler displays the message send to the Azure Open AI Service. Have a special look at the tools being used"
   ]
  },
  {
   "cell_type": "code",
   "execution_count": null,
   "metadata": {
    "dotnet_interactive": {
     "language": "csharp"
    },
    "polyglot_notebook": {
     "kernelName": "csharp"
    },
    "vscode": {
     "languageId": "polyglot-notebook"
    }
   },
   "outputs": [],
   "source": [
    "var prompt = \"What's happening in the world of sports? Save this data to a file called sports-today.md\";\n",
    "var result = await kernel.InvokePromptAsync(prompt, new(executionSettings));\n",
    "result.ToString().DisplayAs(\"text/markdown\");"
   ]
  }
 ],
 "metadata": {
  "kernelspec": {
   "display_name": ".NET (C#)",
   "language": "C#",
   "name": ".net-csharp"
  },
  "language_info": {
   "name": "python"
  },
  "polyglot_notebook": {
   "kernelInfo": {
    "defaultKernelName": "csharp",
    "items": [
     {
      "aliases": [],
      "name": "csharp"
     }
    ]
   }
  }
 },
 "nbformat": 4,
 "nbformat_minor": 2
}
