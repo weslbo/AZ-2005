{
 "cells": [
  {
   "cell_type": "markdown",
   "metadata": {},
   "source": [
    "# Demo 5: Running semantic kernel with local LLM's or SLM's\n",
    "\n",
    "Setup required:\n",
    "- Download ollama from https://ollama.com/\n",
    "- Run the following command to verify that everythings works correctly. We will use Phi-3 Mini, a 3.8B parameters, lightweight, state-of-the-art open model trained with the Phi-3 datasets that includes both synthetic data and the filtered publicly available websites data with a focus on high-quality and reasoning dense properties.\n",
    "\n",
    "```sh\n",
    "ollama run phi3:mini\n",
    "\n",
    "ollama serve\n",
    "```"
   ]
  },
  {
   "cell_type": "code",
   "execution_count": null,
   "metadata": {
    "dotnet_interactive": {
     "language": "csharp"
    },
    "polyglot_notebook": {
     "kernelName": "csharp"
    },
    "vscode": {
     "languageId": "polyglot-notebook"
    }
   },
   "outputs": [],
   "source": [
    "#r \"nuget:Microsoft.Extensions.Logging, 8.0.0\"\n",
    "#r \"nuget:Microsoft.Extensions.Logging.Console, 8.0.0\"\n",
    "#r \"nuget:Microsoft.Extensions.Logging.Debug, 8.0.0\"\n",
    "\n",
    "#r \"nuget:Microsoft.SemanticKernel, 1.16.1\"\n",
    "#r \"nuget:Microsoft.SemanticKernel.Plugins.Core, 1.16.2-alpha\"\n",
    "#r \"nuget:dotenv.net, 3.0.0\""
   ]
  },
  {
   "cell_type": "code",
   "execution_count": null,
   "metadata": {
    "dotnet_interactive": {
     "language": "csharp"
    },
    "polyglot_notebook": {
     "kernelName": "csharp"
    },
    "vscode": {
     "languageId": "polyglot-notebook"
    }
   },
   "outputs": [],
   "source": [
    "using Microsoft.Extensions.DependencyInjection;\n",
    "using Microsoft.Extensions.Logging;\n",
    "using Microsoft.Extensions.Logging.Abstractions;\n",
    "using Microsoft.Extensions.Logging.Console;\n",
    "using Microsoft.SemanticKernel;\n",
    "using Microsoft.SemanticKernel.ChatCompletion;\n",
    "using Microsoft.SemanticKernel.Connectors.OpenAI;\n",
    "using Microsoft.SemanticKernel.Plugins.Core;\n",
    "\n",
    "#pragma warning disable SKEXP0010\n",
    "\n",
    "var builder = Microsoft.SemanticKernel.Kernel.CreateBuilder();\n",
    "\n",
    "builder.AddOpenAIChatCompletion(modelId: \"phi3:mini\", apiKey: null, endpoint: new Uri(\"http://127.0.0.1:11434\"));\n",
    "\n",
    "builder.Services.AddLogging(c => c.AddDebug()\n",
    "                                  .SetMinimumLevel(LogLevel.Trace) // don't do this in production!\n",
    "                                  .AddConsole());\n",
    "var kernel = builder.Build();\n",
    "\n",
    "var prompt  = \"Write a haiku about hungry hippos\";\n",
    "var result = await kernel.InvokePromptAsync(prompt);\n",
    "\n",
    "result"
   ]
  }
 ],
 "metadata": {
  "kernelspec": {
   "display_name": ".NET (C#)",
   "language": "C#",
   "name": ".net-csharp"
  },
  "language_info": {
   "name": "python"
  },
  "polyglot_notebook": {
   "kernelInfo": {
    "defaultKernelName": "csharp",
    "items": [
     {
      "aliases": [],
      "name": "csharp"
     }
    ]
   }
  }
 },
 "nbformat": 4,
 "nbformat_minor": 2
}
