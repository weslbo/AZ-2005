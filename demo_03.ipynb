{
 "cells": [
  {
   "cell_type": "markdown",
   "metadata": {},
   "source": [
    "# Demo's for AZ-2005\n",
    "\n",
    "This demo will showcase RAG patterns using Azure Cognitive Search"
   ]
  },
  {
   "cell_type": "code",
   "execution_count": null,
   "metadata": {
    "dotnet_interactive": {
     "language": "csharp"
    },
    "polyglot_notebook": {
     "kernelName": "csharp"
    },
    "vscode": {
     "languageId": "polyglot-notebook"
    }
   },
   "outputs": [],
   "source": [
    "#r \"nuget:Microsoft.Extensions.Logging, 8.0.0\"\n",
    "#r \"nuget:Microsoft.Extensions.Logging.Console, 8.0.0\"\n",
    "#r \"nuget:Microsoft.Extensions.Logging.Debug, 8.0.0\"\n",
    "\n",
    "#r \"nuget:Microsoft.SemanticKernel, 1.16.2\"\n",
    "#r \"nuget:Microsoft.SemanticKernel.Plugins.Core, 1.16.2-alpha\"\n",
    "#r \"nuget:dotenv.net, 3.0.0\"\n",
    "\n",
    "#r \"nuget:Microsoft.SemanticKernel.Connectors.AzureAISearch, 1.16.2-alpha\"\n",
    "#r \"nuget:Microsoft.SemanticKernel.Plugins.Memory, 1.16.2-alpha\""
   ]
  },
  {
   "cell_type": "code",
   "execution_count": null,
   "metadata": {
    "dotnet_interactive": {
     "language": "csharp"
    },
    "polyglot_notebook": {
     "kernelName": "csharp"
    },
    "vscode": {
     "languageId": "polyglot-notebook"
    }
   },
   "outputs": [],
   "source": [
    "using dotenv.net;\n",
    "using dotenv.net.Utilities;\n",
    "\n",
    "DotEnv.Load();\n",
    "\n",
    "var openai_endpoint = EnvReader.GetStringValue(\"OPENAI_ENDPOINT\");\n",
    "var openai_key = EnvReader.GetStringValue(\"OPENAI_KEY\");\n",
    "\n",
    "var search_endpoint = EnvReader.GetStringValue(\"SEARCH_ENDPOINT\");\n",
    "var search_key = EnvReader.GetStringValue(\"SEARCH_KEY\");"
   ]
  },
  {
   "cell_type": "code",
   "execution_count": null,
   "metadata": {
    "dotnet_interactive": {
     "language": "csharp"
    },
    "polyglot_notebook": {
     "kernelName": "csharp"
    },
    "vscode": {
     "languageId": "polyglot-notebook"
    }
   },
   "outputs": [],
   "source": [
    "using Microsoft.Extensions.DependencyInjection;\n",
    "using Microsoft.Extensions.Logging;\n",
    "using Microsoft.Extensions.Logging.Abstractions;\n",
    "using Microsoft.Extensions.Logging.Console;\n",
    "using Microsoft.SemanticKernel;\n",
    "using Microsoft.SemanticKernel.ChatCompletion;\n",
    "using Microsoft.SemanticKernel.Connectors.OpenAI;\n",
    "using Microsoft.SemanticKernel.Connectors.AzureAISearch;\n",
    "using Microsoft.SemanticKernel.Plugins.Core;\n",
    "using Microsoft.SemanticKernel.Memory;\n",
    "using System.Collections.Generic;\n",
    "using System.Linq;\n",
    "using System.Threading.Tasks;\n",
    "\n",
    "#pragma warning disable SKEXP0001\n",
    "#pragma warning disable SKEXP0020\n",
    "#pragma warning disable SKEXP0010\n",
    "#pragma warning disable SKEXP0050\n",
    "\n",
    "var memory = new MemoryBuilder()\n",
    "            .WithAzureOpenAITextEmbeddingGeneration(\"text-embedding-ada-002\", openai_endpoint, openai_key)\n",
    "            .WithMemoryStore(new AzureAISearchMemoryStore(search_endpoint, search_key))\n",
    "            .Build();\n",
    "\n",
    "var kernel = Kernel.CreateBuilder()\n",
    "            .AddAzureOpenAITextEmbeddingGeneration(\"text-embedding-ada-002\", openai_endpoint, openai_key)  \n",
    "            .AddAzureOpenAIChatCompletion(\n",
    "                \"gpt-4o\",         // Azure OpenAI Deployment Name. Make sure this is correct\n",
    "                openai_endpoint,  // Azure OpenAI Endpoint\n",
    "                openai_key)       // Azure OpenAI Key\n",
    "            .Build();\n",
    "\n",
    "kernel.ImportPluginFromObject(new Microsoft.SemanticKernel.Plugins.Memory.TextMemoryPlugin(memory));"
   ]
  },
  {
   "cell_type": "markdown",
   "metadata": {},
   "source": [
    "## Use SK Memory to store some information into Azure Cognitive Search"
   ]
  },
  {
   "cell_type": "code",
   "execution_count": null,
   "metadata": {
    "dotnet_interactive": {
     "language": "csharp"
    },
    "polyglot_notebook": {
     "kernelName": "csharp"
    },
    "vscode": {
     "languageId": "polyglot-notebook"
    }
   },
   "outputs": [],
   "source": [
    "var memories = new Dictionary<string, string> \n",
    "{\n",
    "    { \"rec1\", \"My name is Wesley\"},\n",
    "    { \"rec2\", \"I currently work as a Microsoft Technical Trainer\"},\n",
    "    { \"rec3\", \"I've was born in Antwerp in 1978\"},\n",
    "    { \"rec4\", \"I've visited the US a few times since 2007\"},\n",
    "    { \"rec5\", \"I currently live in Kapellen\"},\n",
    "};\n",
    "\n",
    "foreach (var item in memories)\n",
    "{\n",
    "    await memory.SaveInformationAsync(collection: \"aboutMe\", id: item.Key, text: item.Value);\n",
    "}\n",
    "\n",
    "memory.SaveReferenceAsync()"
   ]
  },
  {
   "cell_type": "markdown",
   "metadata": {},
   "source": [
    "## Search memory using Vector Search (not using prompts)"
   ]
  },
  {
   "cell_type": "code",
   "execution_count": null,
   "metadata": {
    "dotnet_interactive": {
     "language": "csharp"
    },
    "polyglot_notebook": {
     "kernelName": "csharp"
    },
    "vscode": {
     "languageId": "polyglot-notebook"
    }
   },
   "outputs": [],
   "source": [
    "var query = \"What is my name?\";\n",
    "\n",
    "var results = memory.SearchAsync(collection: \"aboutMe\", query: query, limit: 2);\n",
    "\n",
    "await foreach (var result in results)\n",
    "{\n",
    "    Console.WriteLine(result.Metadata.Text);\n",
    "    result.Display();\n",
    "}"
   ]
  },
  {
   "cell_type": "code",
   "execution_count": null,
   "metadata": {
    "dotnet_interactive": {
     "language": "csharp"
    },
    "polyglot_notebook": {
     "kernelName": "csharp"
    },
    "vscode": {
     "languageId": "polyglot-notebook"
    }
   },
   "outputs": [],
   "source": [
    "var query = \"What do I do for work?\";\n",
    "\n",
    "var results = memory.SearchAsync(collection: \"aboutMe\", query: query, limit: 2);\n",
    "\n",
    "await foreach (var result in results)\n",
    "{\n",
    "    Console.WriteLine(result.Metadata.Text);\n",
    "    result.Display();\n",
    "}"
   ]
  },
  {
   "cell_type": "markdown",
   "metadata": {},
   "source": [
    "## Grounding prompts with Memory \"recall\""
   ]
  },
  {
   "cell_type": "code",
   "execution_count": null,
   "metadata": {
    "dotnet_interactive": {
     "language": "csharp"
    },
    "polyglot_notebook": {
     "kernelName": "csharp"
    },
    "vscode": {
     "languageId": "polyglot-notebook"
    }
   },
   "outputs": [],
   "source": [
    "const string prompt = @\"\n",
    "Considering these facts\n",
    "\n",
    "About me: {{recall 'where did I grow up' collection='aboutMe'}}\n",
    "About me: {{recall 'where do I live' collection='aboutMe'}}\n",
    "\n",
    "Question: Do I live in the same town where I grep up?\n",
    "\n",
    "Provide a concise answer ('Answer: ') and a separate explanation ('Explanation: '), in two lines.\n",
    "\";\n",
    "\n",
    "var result = await kernel.InvokePromptAsync(prompt);\n",
    "\n",
    "result.ToString().DisplayAs(\"text/markdown\");"
   ]
  }
 ],
 "metadata": {
  "kernelspec": {
   "display_name": ".NET (C#)",
   "language": "C#",
   "name": ".net-csharp"
  },
  "language_info": {
   "name": "python"
  },
  "polyglot_notebook": {
   "kernelInfo": {
    "defaultKernelName": "csharp",
    "items": [
     {
      "aliases": [],
      "name": "csharp"
     }
    ]
   }
  }
 },
 "nbformat": 4,
 "nbformat_minor": 2
}
