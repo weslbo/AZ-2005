{
 "cells": [
  {
   "cell_type": "markdown",
   "metadata": {},
   "source": [
    "# Demo's for AZ-2005 (work in progress)\n",
    "\n",
    "This demo will showcase RAG patterns using Azure Cognitive Search"
   ]
  },
  {
   "cell_type": "code",
   "execution_count": null,
   "metadata": {
    "dotnet_interactive": {
     "language": "csharp"
    },
    "polyglot_notebook": {
     "kernelName": "csharp"
    },
    "vscode": {
     "languageId": "polyglot-notebook"
    }
   },
   "outputs": [],
   "source": [
    "#r \"nuget:Microsoft.Extensions.Logging, 8.0.0\"\n",
    "#r \"nuget:Microsoft.Extensions.Logging.Console, 8.0.0\"\n",
    "#r \"nuget:Microsoft.Extensions.Logging.Debug, 8.0.0\"\n",
    "\n",
    "#r \"nuget:Microsoft.SemanticKernel, 1.16.2\"\n",
    "#r \"nuget:Microsoft.SemanticKernel.Plugins.Core, 1.16.2-alpha\"\n",
    "#r \"nuget:Microsoft.SemanticKernel.Connectors.AzureAISearch, 1.16.2-alpha\"\n",
    "#r \"nuget:Microsoft.SemanticKernel.Plugins.Memory, 1.16.2-alpha\"\n",
    "#r \"nuget:dotenv.net, 3.0.0\"\n",
    "\n",
    "#r \"nuget:Microsoft.KernelMemory.Core, 0.69.240727.1\""
   ]
  },
  {
   "cell_type": "code",
   "execution_count": null,
   "metadata": {
    "dotnet_interactive": {
     "language": "csharp"
    },
    "polyglot_notebook": {
     "kernelName": "csharp"
    },
    "vscode": {
     "languageId": "polyglot-notebook"
    }
   },
   "outputs": [],
   "source": [
    "using Microsoft.KernelMemory;\n",
    "using Microsoft.SemanticKernel;\n",
    "using Microsoft.SemanticKernel.ChatCompletion;\n",
    "using Microsoft.SemanticKernel.Connectors.OpenAI;\n",
    "using Microsoft.SemanticKernel.Plugins.Core;\n",
    "using Microsoft.SemanticKernel.Memory;\n",
    "using Microsoft.Extensions.Configuration;\n",
    "using dotenv.net;\n",
    "using dotenv.net.Utilities;\n",
    "\n",
    "DotEnv.Load();\n",
    "\n",
    "var openai_endpoint = EnvReader.GetStringValue(\"OPENAI_ENDPOINT\");\n",
    "var openai_key = EnvReader.GetStringValue(\"OPENAI_KEY\");\n",
    "var azureOpenAITextConfig = new AzureOpenAIConfig();\n",
    "var azureOpenAIEmbeddingConfig = new AzureOpenAIConfig();\n",
    "var azureAISearchConfigWithHybridSearch = new AzureAISearchConfig();\n",
    "\n",
    "azureAISearchConfigWithHybridSearch.UseHybridSearch = true;\n",
    "\n",
    "new ConfigurationBuilder()\n",
    "            .AddJsonFile($\"{System.IO.Directory.GetCurrentDirectory()}\\\\appsettings.dev.json\")\n",
    "            .Build()\n",
    "            .BindSection(\"KernelMemory:Services:AzureOpenAIText\", azureOpenAITextConfig)\n",
    "            .BindSection(\"KernelMemory:Services:AzureOpenAIEmbedding\", azureOpenAIEmbeddingConfig)\n",
    "            .BindSection(\"KernelMemory:Services:AzureAISearch\", azureAISearchConfigWithHybridSearch);\n",
    "\n",
    "var memory = new KernelMemoryBuilder()\n",
    "            .WithAzureOpenAITextGeneration(azureOpenAITextConfig)\n",
    "            .WithAzureOpenAITextEmbeddingGeneration(azureOpenAIEmbeddingConfig)\n",
    "            .WithAzureAISearchMemoryDb(azureAISearchConfigWithHybridSearch)\n",
    "            .WithSearchClientConfig(new SearchClientConfig { MaxMatchesCount = 2, Temperature = 0, TopP = 0 })\n",
    "            .Build<MemoryServerless>();\n"
   ]
  },
  {
   "cell_type": "code",
   "execution_count": null,
   "metadata": {
    "dotnet_interactive": {
     "language": "csharp"
    },
    "polyglot_notebook": {
     "kernelName": "csharp"
    },
    "vscode": {
     "languageId": "polyglot-notebook"
    }
   },
   "outputs": [],
   "source": [
    "// delete index\n",
    "await memory.DeleteIndexAsync(\"demo_04\");\n",
    "\n",
    "// Import a file\n",
    "await memory.ImportDocumentAsync(@\"C:\\_git\\weslbo\\AZ-2005\\semantic-kernel.pdf\", index: \"demo_04\");"
   ]
  },
  {
   "cell_type": "code",
   "execution_count": null,
   "metadata": {
    "dotnet_interactive": {
     "language": "csharp"
    },
    "polyglot_notebook": {
     "kernelName": "csharp"
    },
    "vscode": {
     "languageId": "polyglot-notebook"
    }
   },
   "outputs": [],
   "source": [
    "var answer = await memory.AskAsync(\"What is Semantic Kernel?\", index:\"demo_04\");\n",
    "\n",
    "answer.Result.ToString().DisplayAs(\"text/markdown\");\n",
    "\n",
    "foreach (var x in answer.RelevantSources)\n",
    "{\n",
    "    Console.WriteLine($\"  * {x.SourceName} -- {x.Partitions.First().LastUpdate:D}\");\n",
    "}\n",
    "\n",
    "var prompt = @\"\n",
    "            Question to Kernel Memory: {{$input}}\n",
    "\n",
    "            Kernel Memory Answer: {{memory.ask}}\n",
    "\n",
    "            If the answer is empty say 'I don't know', otherwise reply with a business mail to share the answer.\n",
    "            \";answer"
   ]
  }
 ],
 "metadata": {
  "kernelspec": {
   "display_name": ".NET (C#)",
   "language": "C#",
   "name": ".net-csharp"
  },
  "language_info": {
   "name": "python"
  },
  "polyglot_notebook": {
   "kernelInfo": {
    "defaultKernelName": "csharp",
    "items": [
     {
      "aliases": [],
      "name": "csharp"
     }
    ]
   }
  }
 },
 "nbformat": 4,
 "nbformat_minor": 2
}
