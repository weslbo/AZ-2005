{
 "cells": [
  {
   "cell_type": "markdown",
   "metadata": {},
   "source": [
    "# Demo's for AZ-2005 (work in progress)\n",
    "\n",
    "This demo will showcase RAG patterns using Azure Cognitive Search"
   ]
  },
  {
   "cell_type": "code",
   "execution_count": null,
   "metadata": {
    "dotnet_interactive": {
     "language": "csharp"
    },
    "polyglot_notebook": {
     "kernelName": "csharp"
    },
    "vscode": {
     "languageId": "polyglot-notebook"
    }
   },
   "outputs": [],
   "source": [
    "#r \"nuget:Microsoft.Extensions.Logging, 8.0.0\"\n",
    "#r \"nuget:Microsoft.Extensions.Logging.Console, 8.0.0\"\n",
    "#r \"nuget:Microsoft.Extensions.Logging.Debug, 8.0.0\"\n",
    "\n",
    "#r \"nuget:Microsoft.SemanticKernel, 1.16.2\"\n",
    "#r \"nuget:Microsoft.SemanticKernel.Plugins.Core, 1.16.2-alpha\"\n",
    "#r \"nuget:dotenv.net, 3.0.0\"\n",
    "\n",
    "#r \"nuget:Microsoft.KernelMemory.Core, 0.69.240727.1\""
   ]
  },
  {
   "cell_type": "code",
   "execution_count": null,
   "metadata": {
    "dotnet_interactive": {
     "language": "csharp"
    },
    "polyglot_notebook": {
     "kernelName": "csharp"
    },
    "vscode": {
     "languageId": "polyglot-notebook"
    }
   },
   "outputs": [],
   "source": [
    "using Microsoft.KernelMemory;\n",
    "using Microsoft.SemanticKernel;\n",
    "using Microsoft.SemanticKernel.ChatCompletion;\n",
    "using Microsoft.Extensions.Configuration;\n",
    "\n",
    "var azureOpenAITextConfig = new AzureOpenAIConfig();\n",
    "var azureOpenAIEmbeddingConfig = new AzureOpenAIConfig();\n",
    "var azureAISearchConfigWithHybridSearch = new AzureAISearchConfig();\n",
    "\n",
    "azureAISearchConfigWithHybridSearch.UseHybridSearch = true;\n",
    "\n",
    "new ConfigurationBuilder()\n",
    "            .AddJsonFile($\"{System.IO.Directory.GetCurrentDirectory()}\\\\appsettings.dev.json\")\n",
    "            .Build()\n",
    "            .BindSection(\"KernelMemory:Services:AzureOpenAIText\", azureOpenAITextConfig)\n",
    "            .BindSection(\"KernelMemory:Services:AzureOpenAIEmbedding\", azureOpenAIEmbeddingConfig)\n",
    "            .BindSection(\"KernelMemory:Services:AzureAISearch\", azureAISearchConfigWithHybridSearch);\n",
    "\n",
    "var memory = new KernelMemoryBuilder()\n",
    "            .WithAzureOpenAITextGeneration(azureOpenAITextConfig)\n",
    "            .WithAzureOpenAITextEmbeddingGeneration(azureOpenAIEmbeddingConfig)\n",
    "            .WithAzureAISearchMemoryDb(azureAISearchConfigWithHybridSearch)\n",
    "            .WithSearchClientConfig(new SearchClientConfig { MaxMatchesCount = 2, Temperature = 0, TopP = 0 })\n",
    "            .Build<MemoryServerless>();"
   ]
  },
  {
   "cell_type": "code",
   "execution_count": null,
   "metadata": {
    "dotnet_interactive": {
     "language": "csharp"
    },
    "polyglot_notebook": {
     "kernelName": "csharp"
    },
    "vscode": {
     "languageId": "polyglot-notebook"
    }
   },
   "outputs": [],
   "source": [
    "// delete index\n",
    "await memory.DeleteIndexAsync(\"demo_04\");\n",
    "\n",
    "// Import a file\n",
    "await memory.ImportDocumentAsync(@\"C:\\_git\\weslbo\\AZ-2005\\semantic-kernel.pdf\", index: \"demo_04\");"
   ]
  },
  {
   "cell_type": "code",
   "execution_count": null,
   "metadata": {
    "dotnet_interactive": {
     "language": "csharp"
    },
    "polyglot_notebook": {
     "kernelName": "csharp"
    },
    "vscode": {
     "languageId": "polyglot-notebook"
    }
   },
   "outputs": [],
   "source": [
    "var answer = await memory.AskAsync(\"What is Semantic Kernel?\");\n",
    "\n",
    "answer\n",
    "\n",
    "// foreach (var x in answer.RelevantSources)\n",
    "// {\n",
    "//     Console.WriteLine($\"  * {x.SourceName} -- {x.Partitions.First().LastUpdate:D}\");\n",
    "// }"
   ]
  },
  {
   "cell_type": "code",
   "execution_count": null,
   "metadata": {
    "dotnet_interactive": {
     "language": "csharp"
    },
    "polyglot_notebook": {
     "kernelName": "csharp"
    },
    "vscode": {
     "languageId": "polyglot-notebook"
    }
   },
   "outputs": [],
   "source": [
    "ChatHistory history = [];   // add chatHistory\n",
    "\n",
    "var chatCompletionService = kernel.GetRequiredService<IChatCompletionService>();\n",
    "\n",
    "while (true)\n",
    "{\n",
    "    Console.Write(\"User > \");\n",
    "\n",
    "    var question = await Microsoft.DotNet.Interactive.Kernel.GetInputAsync(\"Enter your message (type EXIT to quit):\");\n",
    "\n",
    "    if (question.ToLower() == \"exit\" || String.IsNullOrEmpty(question))\n",
    "    {\n",
    "        break;\n",
    "    }\n",
    "\n",
    "    Console.Write(question);\n",
    "    Console.WriteLine();\n",
    "\n",
    "    //var result = chatCompletionService.GetStreamingChatMessageContentsAsync(history, kernel: kernel);  // replace request with history\n",
    "    var answer = await memory.AskAsync(question, index: \"demo_04\", minRelevance: 0.76);\n",
    "\n",
    "    history.AddUserMessage(question);       // add user message to history  \n",
    "    history.AddAssistantMessage(answer.Result);    // add assistant message to history\n",
    "\n",
    "    string fullMessage = \"\";\n",
    "    Console.Write(\"Assistant > \");\n",
    "\n",
    "    await foreach (var content in result)\n",
    "    {\n",
    "        Console.Write(content.Content);\n",
    "        fullMessage += content.Content;\n",
    "    }\n",
    "\n",
    "    history.AddAssistantMessage(fullMessage);  // add assistant message to history\n",
    "\n",
    "    Console.WriteLine();\n",
    "    Console.WriteLine();\n",
    "}"
   ]
  },
  {
   "cell_type": "code",
   "execution_count": null,
   "metadata": {
    "dotnet_interactive": {
     "language": "csharp"
    },
    "polyglot_notebook": {
     "kernelName": "csharp"
    },
    "vscode": {
     "languageId": "polyglot-notebook"
    }
   },
   "outputs": [],
   "source": [
    "var embeddingQuestion = $\"\n",
    " \";"
   ]
  }
 ],
 "metadata": {
  "kernelspec": {
   "display_name": ".NET (C#)",
   "language": "C#",
   "name": ".net-csharp"
  },
  "language_info": {
   "name": "python"
  },
  "polyglot_notebook": {
   "kernelInfo": {
    "defaultKernelName": "csharp",
    "items": [
     {
      "aliases": [],
      "name": "csharp"
     }
    ]
   }
  }
 },
 "nbformat": 4,
 "nbformat_minor": 2
}
